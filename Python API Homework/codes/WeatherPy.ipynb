{
 "cells": [
  {
   "cell_type": "markdown",
   "metadata": {},
   "source": [
    "# WeatherPy\n",
    "----\n",
    "\n",
    "#### Note\n",
    "* Instructions have been included for each segment. You do not have to follow them exactly, but they are included to help you think through the steps."
   ]
  },
  {
   "cell_type": "code",
   "execution_count": 1,
   "metadata": {
    "scrolled": true
   },
   "outputs": [],
   "source": [
    "# Dependencies and Setup\n",
    "import matplotlib.pyplot as plt\n",
    "import pandas as pd\n",
    "import numpy as np\n",
    "import requests\n",
    "import time\n",
    "from scipy.stats import linregress\n",
    "from IPython.display import JSON\n",
    "\n",
    "# Import API key\n",
    "from api_keys import weather_api_key\n",
    "\n",
    "# Incorporated citipy to determine city based on latitude and longitude\n",
    "from citipy import citipy\n",
    "\n",
    "# Output File (CSV)\n",
    "output_data_file = \"../output_data/cities.csv\"\n",
    "\n",
    "# Range of latitudes and longitudes\n",
    "lat_range = (-90, 90)\n",
    "lng_range = (-180, 180)"
   ]
  },
  {
   "cell_type": "code",
   "execution_count": 2,
   "metadata": {
    "scrolled": true
   },
   "outputs": [],
   "source": [
    "api_key = weather_api_key\n",
    "url = \"http://api.openweathermap.org/data/2.5/weather?\"\n",
    "units = \"imperial\"\n",
    "query_url = f\"{url}appid={api_key}&units={units}&q=\""
   ]
  },
  {
   "cell_type": "markdown",
   "metadata": {},
   "source": [
    "## Generate Cities List"
   ]
  },
  {
   "cell_type": "code",
   "execution_count": 3,
   "metadata": {},
   "outputs": [
    {
     "data": {
      "text/plain": [
       "593"
      ]
     },
     "execution_count": 3,
     "metadata": {},
     "output_type": "execute_result"
    }
   ],
   "source": [
    "# List for holding lat_lngs and cities\n",
    "lat_lngs = []\n",
    "cities = []\n",
    "\n",
    "# Create a set of random lat and lng combinations\n",
    "lats = np.random.uniform(lat_range[0], lat_range[1], size=1500)\n",
    "lngs = np.random.uniform(lng_range[0], lng_range[1], size=1500)\n",
    "lat_lngs = zip(lats, lngs)\n",
    "\n",
    "# Identify nearest city for each lat, lng combination\n",
    "for lat_lng in lat_lngs:\n",
    "    city = citipy.nearest_city(lat_lng[0], lat_lng[1]).city_name\n",
    "    \n",
    "    # If the city is unique, then add it to a our cities list\n",
    "    if city not in cities:\n",
    "        cities.append(city)\n",
    "\n",
    "# Print the city count to confirm sufficient count\n",
    "len(cities)"
   ]
  },
  {
   "cell_type": "markdown",
   "metadata": {},
   "source": [
    "### Perform API Calls\n",
    "* Perform a weather check on each city using a series of successive API calls.\n",
    "* Include a print log of each city as it'sbeing processed (with the city number and city name).\n"
   ]
  },
  {
   "cell_type": "code",
   "execution_count": 5,
   "metadata": {},
   "outputs": [
    {
     "name": "stdout",
     "output_type": "stream",
     "text": [
      "Processing Record 1 of Set 1 | wadena\n",
      "Processing Record 2 of Set 1 | mataura\n",
      "Processing Record 3 of Set 1 | tuktoyaktuk\n",
      "Processing Record 4 of Set 1 | necochea\n",
      "Processing Record 5 of Set 1 | bluff\n",
      "Processing Record 6 of Set 1 | atuona\n",
      "Processing Record 7 of Set 1 | lagoa\n",
      "Processing Record 8 of Set 1 | gushikawa\n",
      "Processing Record 9 of Set 1 | keokuk\n",
      "Processing Record 10 of Set 1 | bonthe\n",
      "Processing Record 11 of Set 1 | punta arenas\n",
      "Processing Record 12 of Set 1 | carnarvon\n",
      "Processing Record 13 of Set 1 | saint-pierre\n",
      "Processing Record 14 of Set 1 | nabire\n",
      "Processing Record 15 of Set 1 | hermanus\n",
      "Processing Record 16 of Set 1 | clyde river\n",
      "Processing Record 17 of Set 1 | alofi\n",
      "Processing Record 18 of Set 1 | tasiilaq\n",
      "City not found. Skipping\n",
      "Processing Record 19 of Set 1 | esperance\n",
      "Processing Record 20 of Set 1 | batagay-alyta\n",
      "Processing Record 21 of Set 1 | garissa\n",
      "Processing Record 22 of Set 1 | klaksvik\n",
      "Processing Record 23 of Set 1 | havre-saint-pierre\n",
      "Processing Record 24 of Set 1 | amapa\n",
      "Processing Record 25 of Set 1 | makakilo city\n",
      "Processing Record 26 of Set 1 | katsuura\n",
      "Processing Record 27 of Set 1 | vaini\n",
      "Processing Record 28 of Set 1 | dikson\n",
      "Processing Record 29 of Set 1 | vaitape\n",
      "Processing Record 30 of Set 1 | ushuaia\n",
      "Processing Record 31 of Set 1 | chuy\n",
      "Processing Record 32 of Set 1 | saint anthony\n",
      "Processing Record 33 of Set 1 | bethel\n",
      "Processing Record 34 of Set 1 | portland\n",
      "Processing Record 35 of Set 1 | bokoro\n",
      "City not found. Skipping\n",
      "Processing Record 36 of Set 1 | jamestown\n",
      "Processing Record 37 of Set 1 | bam\n",
      "Processing Record 38 of Set 1 | rikitea\n",
      "Processing Record 39 of Set 1 | victoria\n",
      "Processing Record 40 of Set 1 | saint-philippe\n",
      "Processing Record 41 of Set 1 | manzhouli\n",
      "Processing Record 42 of Set 1 | hualmay\n",
      "Processing Record 43 of Set 1 | jumla\n",
      "Processing Record 44 of Set 1 | hilo\n",
      "Processing Record 45 of Set 1 | airai\n",
      "Processing Record 46 of Set 1 | buraydah\n",
      "City not found. Skipping\n",
      "Processing Record 47 of Set 1 | bilma\n",
      "City not found. Skipping\n",
      "Processing Record 48 of Set 1 | tiksi\n",
      "Processing Record 49 of Set 1 | walvis bay\n",
      "Processing Record 50 of Set 1 | khatanga\n",
      "Processing Record 1 of Set 2 | busselton\n",
      "Processing Record 2 of Set 2 | mahebourg\n",
      "Processing Record 3 of Set 2 | coihaique\n",
      "Processing Record 4 of Set 2 | belaya gora\n",
      "Processing Record 5 of Set 2 | sao filipe\n",
      "Processing Record 6 of Set 2 | angoche\n",
      "Processing Record 7 of Set 2 | lebu\n",
      "City not found. Skipping\n",
      "Processing Record 8 of Set 2 | qaanaaq\n",
      "Processing Record 9 of Set 2 | mar del plata\n",
      "Processing Record 10 of Set 2 | lasa\n",
      "Processing Record 11 of Set 2 | frolovo\n",
      "Processing Record 12 of Set 2 | shingu\n",
      "Processing Record 13 of Set 2 | tosno\n",
      "Processing Record 14 of Set 2 | ahipara\n",
      "City not found. Skipping\n",
      "Processing Record 15 of Set 2 | namatanai\n",
      "Processing Record 16 of Set 2 | kaitangata\n",
      "Processing Record 17 of Set 2 | payo\n",
      "Processing Record 18 of Set 2 | cape town\n",
      "Processing Record 19 of Set 2 | jining\n",
      "Processing Record 20 of Set 2 | nanortalik\n",
      "Processing Record 21 of Set 2 | fortuna\n",
      "Processing Record 22 of Set 2 | albany\n",
      "Processing Record 23 of Set 2 | kahului\n",
      "Processing Record 24 of Set 2 | thompson\n",
      "Processing Record 25 of Set 2 | castro\n",
      "Processing Record 26 of Set 2 | cabo san lucas\n",
      "Processing Record 27 of Set 2 | meadow lake\n",
      "Processing Record 28 of Set 2 | baft\n",
      "Processing Record 29 of Set 2 | adrar\n",
      "City not found. Skipping\n",
      "Processing Record 30 of Set 2 | natchez\n",
      "Processing Record 31 of Set 2 | kodiak\n",
      "Processing Record 32 of Set 2 | broome\n",
      "Processing Record 33 of Set 2 | union\n",
      "Processing Record 34 of Set 2 | thinadhoo\n",
      "Processing Record 35 of Set 2 | ribeira grande\n",
      "Processing Record 36 of Set 2 | isla vista\n",
      "Processing Record 37 of Set 2 | abu samrah\n",
      "Processing Record 38 of Set 2 | gerash\n",
      "Processing Record 39 of Set 2 | hithadhoo\n",
      "Processing Record 40 of Set 2 | australind\n",
      "Processing Record 41 of Set 2 | georgetown\n",
      "Processing Record 42 of Set 2 | cherskiy\n",
      "Processing Record 43 of Set 2 | hobart\n",
      "Processing Record 44 of Set 2 | provideniya\n",
      "Processing Record 45 of Set 2 | bend\n",
      "Processing Record 46 of Set 2 | ban mo\n",
      "Processing Record 47 of Set 2 | husavik\n",
      "Processing Record 48 of Set 2 | boa vista\n",
      "Processing Record 49 of Set 2 | sept-iles\n",
      "Processing Record 50 of Set 2 | dunedin\n",
      "Processing Record 1 of Set 3 | ouesso\n",
      "Processing Record 2 of Set 3 | flinders\n",
      "Processing Record 3 of Set 3 | labytnangi\n",
      "Processing Record 4 of Set 3 | marzuq\n",
      "Processing Record 5 of Set 3 | asau\n",
      "Processing Record 6 of Set 3 | talara\n",
      "Processing Record 7 of Set 3 | souillac\n",
      "Processing Record 8 of Set 3 | port alfred\n",
      "Processing Record 9 of Set 3 | avarua\n",
      "Processing Record 10 of Set 3 | giresun\n",
      "Processing Record 11 of Set 3 | grand gaube\n",
      "Processing Record 12 of Set 3 | barrow\n",
      "Processing Record 13 of Set 3 | narsaq\n",
      "Processing Record 14 of Set 3 | kalmunai\n",
      "Processing Record 15 of Set 3 | nikolskoye\n",
      "City not found. Skipping\n",
      "Processing Record 16 of Set 3 | columbia\n",
      "Processing Record 17 of Set 3 | longyearbyen\n",
      "Processing Record 18 of Set 3 | kununurra\n",
      "Processing Record 19 of Set 3 | ponta do sol\n",
      "City not found. Skipping\n",
      "Processing Record 20 of Set 3 | benghazi\n",
      "Processing Record 21 of Set 3 | saskylakh\n",
      "Processing Record 22 of Set 3 | tura\n",
      "City not found. Skipping\n",
      "Processing Record 23 of Set 3 | pontal do parana\n",
      "Processing Record 24 of Set 3 | madaoua\n",
      "Processing Record 25 of Set 3 | gao\n",
      "Processing Record 26 of Set 3 | kavaratti\n",
      "Processing Record 27 of Set 3 | manokwari\n",
      "Processing Record 28 of Set 3 | cidreira\n",
      "Processing Record 29 of Set 3 | surt\n",
      "Processing Record 30 of Set 3 | mathbaria\n",
      "Processing Record 31 of Set 3 | vila velha\n",
      "Processing Record 32 of Set 3 | cap malheureux\n",
      "Processing Record 33 of Set 3 | iqaluit\n",
      "Processing Record 34 of Set 3 | gusau\n",
      "Processing Record 35 of Set 3 | arraial do cabo\n",
      "Processing Record 36 of Set 3 | kapaa\n",
      "Processing Record 37 of Set 3 | guarapari\n",
      "Processing Record 38 of Set 3 | bela vista\n",
      "City not found. Skipping\n",
      "Processing Record 39 of Set 3 | east london\n",
      "City not found. Skipping\n",
      "Processing Record 40 of Set 3 | kizilskoye\n",
      "Processing Record 41 of Set 3 | itoman\n",
      "Processing Record 42 of Set 3 | pevek\n",
      "Processing Record 43 of Set 3 | tahta\n",
      "Processing Record 44 of Set 3 | constitucion\n",
      "Processing Record 45 of Set 3 | bredasdorp\n",
      "Processing Record 46 of Set 3 | ulety\n",
      "Processing Record 47 of Set 3 | mobile\n",
      "Processing Record 48 of Set 3 | vardo\n",
      "Processing Record 49 of Set 3 | tahe\n",
      "Processing Record 50 of Set 3 | san quintin\n",
      "Processing Record 1 of Set 4 | sri aman\n",
      "Processing Record 2 of Set 4 | alice town\n",
      "Processing Record 3 of Set 4 | kiama\n",
      "City not found. Skipping\n",
      "Processing Record 4 of Set 4 | tabou\n",
      "City not found. Skipping\n",
      "Processing Record 5 of Set 4 | dwarka\n",
      "Processing Record 6 of Set 4 | bubaque\n",
      "City not found. Skipping\n",
      "Processing Record 7 of Set 4 | samarai\n",
      "Processing Record 8 of Set 4 | la palma\n",
      "Processing Record 9 of Set 4 | iracoubo\n",
      "Processing Record 10 of Set 4 | dutse\n",
      "Processing Record 11 of Set 4 | codajas\n",
      "Processing Record 12 of Set 4 | vuktyl\n",
      "Processing Record 13 of Set 4 | mae hong son\n",
      "Processing Record 14 of Set 4 | kandrian\n",
      "Processing Record 15 of Set 4 | ranau\n",
      "Processing Record 16 of Set 4 | severo-kurilsk\n",
      "Processing Record 17 of Set 4 | mendi\n",
      "Processing Record 18 of Set 4 | umm kaddadah\n",
      "Processing Record 19 of Set 4 | cosala\n",
      "Processing Record 20 of Set 4 | bereda\n",
      "Processing Record 21 of Set 4 | tabas\n",
      "Processing Record 22 of Set 4 | moron\n",
      "Processing Record 23 of Set 4 | crotone\n",
      "Processing Record 24 of Set 4 | sao joao da barra\n",
      "Processing Record 25 of Set 4 | san juan\n",
      "Processing Record 26 of Set 4 | monrovia\n",
      "Processing Record 27 of Set 4 | pisco\n",
      "Processing Record 28 of Set 4 | westport\n",
      "City not found. Skipping\n",
      "Processing Record 29 of Set 4 | naze\n",
      "Processing Record 30 of Set 4 | tyukhtet\n",
      "Processing Record 31 of Set 4 | tuatapere\n",
      "Processing Record 32 of Set 4 | najran\n",
      "Processing Record 33 of Set 4 | lavrentiya\n",
      "Processing Record 34 of Set 4 | bamnet narong\n",
      "Processing Record 35 of Set 4 | luanda\n",
      "Processing Record 36 of Set 4 | perth\n",
      "Processing Record 37 of Set 4 | san patricio\n",
      "Processing Record 38 of Set 4 | mecca\n",
      "Processing Record 39 of Set 4 | porbandar\n",
      "Processing Record 40 of Set 4 | puerto ayora\n",
      "Processing Record 41 of Set 4 | guerrero negro\n",
      "Processing Record 42 of Set 4 | saint-joseph\n"
     ]
    },
    {
     "name": "stdout",
     "output_type": "stream",
     "text": [
      "Processing Record 43 of Set 4 | peniche\n",
      "Processing Record 44 of Set 4 | sheksna\n",
      "Processing Record 45 of Set 4 | torbay\n",
      "Processing Record 46 of Set 4 | puerto leguizamo\n",
      "Processing Record 47 of Set 4 | boke\n",
      "Processing Record 48 of Set 4 | port blair\n",
      "Processing Record 49 of Set 4 | eyl\n",
      "Processing Record 50 of Set 4 | virginia beach\n",
      "Processing Record 1 of Set 5 | yerofey pavlovich\n",
      "Processing Record 2 of Set 5 | upernavik\n",
      "Processing Record 3 of Set 5 | hasaki\n",
      "Processing Record 4 of Set 5 | darhan\n",
      "Processing Record 5 of Set 5 | dubuque\n",
      "Processing Record 6 of Set 5 | whyalla\n",
      "Processing Record 7 of Set 5 | rocha\n",
      "Processing Record 8 of Set 5 | kavieng\n",
      "Processing Record 9 of Set 5 | aykhal\n",
      "Processing Record 10 of Set 5 | ilulissat\n",
      "Processing Record 11 of Set 5 | paracuru\n",
      "City not found. Skipping\n",
      "Processing Record 12 of Set 5 | kloulklubed\n",
      "Processing Record 13 of Set 5 | harnosand\n",
      "Processing Record 14 of Set 5 | kerema\n",
      "Processing Record 15 of Set 5 | baneh\n",
      "Processing Record 16 of Set 5 | nhulunbuy\n",
      "Processing Record 17 of Set 5 | thohoyandou\n",
      "Processing Record 18 of Set 5 | semnan\n",
      "Processing Record 19 of Set 5 | mabamba\n",
      "City not found. Skipping\n",
      "Processing Record 20 of Set 5 | reconquista\n",
      "Processing Record 21 of Set 5 | robertsport\n",
      "Processing Record 22 of Set 5 | hue\n",
      "Processing Record 23 of Set 5 | yellowknife\n",
      "Processing Record 24 of Set 5 | new norfolk\n",
      "Processing Record 25 of Set 5 | upington\n",
      "Processing Record 26 of Set 5 | manta\n",
      "Processing Record 27 of Set 5 | kang\n",
      "Processing Record 28 of Set 5 | auki\n",
      "Processing Record 29 of Set 5 | atar\n",
      "City not found. Skipping\n",
      "Processing Record 30 of Set 5 | misratah\n",
      "Processing Record 31 of Set 5 | bambous virieux\n",
      "Processing Record 32 of Set 5 | biltine\n",
      "Processing Record 33 of Set 5 | ucluelet\n",
      "Processing Record 34 of Set 5 | aklavik\n",
      "Processing Record 35 of Set 5 | port-gentil\n",
      "Processing Record 36 of Set 5 | butaritari\n",
      "Processing Record 37 of Set 5 | ginda\n",
      "Processing Record 38 of Set 5 | ornskoldsvik\n",
      "Processing Record 39 of Set 5 | champerico\n",
      "Processing Record 40 of Set 5 | sinnamary\n",
      "Processing Record 41 of Set 5 | hamilton\n",
      "Processing Record 42 of Set 5 | brae\n",
      "Processing Record 43 of Set 5 | geraldton\n",
      "Processing Record 44 of Set 5 | college\n",
      "Processing Record 45 of Set 5 | gobabis\n",
      "Processing Record 46 of Set 5 | morro bay\n",
      "Processing Record 47 of Set 5 | kruisfontein\n",
      "Processing Record 48 of Set 5 | taos\n",
      "Processing Record 49 of Set 5 | tilichiki\n",
      "Processing Record 50 of Set 5 | creel\n",
      "Processing Record 1 of Set 6 | beloha\n",
      "Processing Record 2 of Set 6 | broken hill\n",
      "Processing Record 3 of Set 6 | yulara\n",
      "Processing Record 4 of Set 6 | derzhavinsk\n",
      "Processing Record 5 of Set 6 | bonavista\n",
      "Processing Record 6 of Set 6 | iberia\n",
      "Processing Record 7 of Set 6 | takoradi\n",
      "Processing Record 8 of Set 6 | yavaros\n",
      "Processing Record 9 of Set 6 | la ronge\n",
      "Processing Record 10 of Set 6 | charlestown\n",
      "Processing Record 11 of Set 6 | zhangjiakou\n",
      "City not found. Skipping\n",
      "Processing Record 12 of Set 6 | aksarka\n",
      "Processing Record 13 of Set 6 | mongoumba\n",
      "Processing Record 14 of Set 6 | garbova\n",
      "City not found. Skipping\n",
      "Processing Record 15 of Set 6 | shaoyang\n",
      "Processing Record 16 of Set 6 | mandalgovi\n",
      "Processing Record 17 of Set 6 | saint george\n",
      "Processing Record 18 of Set 6 | dingle\n",
      "Processing Record 19 of Set 6 | norman wells\n",
      "City not found. Skipping\n",
      "Processing Record 20 of Set 6 | rio cuarto\n",
      "Processing Record 21 of Set 6 | lata\n",
      "Processing Record 22 of Set 6 | ankazobe\n",
      "Processing Record 23 of Set 6 | komsomolskiy\n",
      "Processing Record 24 of Set 6 | jertih\n",
      "Processing Record 25 of Set 6 | seoul\n",
      "Processing Record 26 of Set 6 | si bun ruang\n",
      "Processing Record 27 of Set 6 | chalisgaon\n",
      "Processing Record 28 of Set 6 | paramonga\n",
      "Processing Record 29 of Set 6 | placido de castro\n",
      "City not found. Skipping\n",
      "Processing Record 30 of Set 6 | salinas\n",
      "Processing Record 31 of Set 6 | port elizabeth\n",
      "Processing Record 32 of Set 6 | los algarrobos\n",
      "Processing Record 33 of Set 6 | paamiut\n",
      "Processing Record 34 of Set 6 | jutai\n",
      "Processing Record 35 of Set 6 | pimentel\n",
      "Processing Record 36 of Set 6 | tromso\n",
      "Processing Record 37 of Set 6 | bogdanovich\n",
      "Processing Record 38 of Set 6 | dawlatabad\n",
      "Processing Record 39 of Set 6 | kourou\n",
      "Processing Record 40 of Set 6 | grenville\n",
      "Processing Record 41 of Set 6 | kutum\n",
      "Processing Record 42 of Set 6 | daru\n",
      "Processing Record 43 of Set 6 | neosho\n",
      "Processing Record 44 of Set 6 | ponta delgada\n",
      "Processing Record 45 of Set 6 | yinchuan\n",
      "City not found. Skipping\n",
      "Processing Record 46 of Set 6 | moanda\n",
      "Processing Record 47 of Set 6 | doha\n",
      "Processing Record 48 of Set 6 | ocean city\n",
      "Processing Record 49 of Set 6 | durusu\n",
      "Processing Record 50 of Set 6 | andenes\n",
      "Processing Record 1 of Set 7 | sitka\n",
      "Processing Record 2 of Set 7 | thasos\n",
      "Processing Record 3 of Set 7 | sakakah\n",
      "Processing Record 4 of Set 7 | ferme-neuve\n",
      "Processing Record 5 of Set 7 | sambava\n",
      "Processing Record 6 of Set 7 | pacific grove\n",
      "Processing Record 7 of Set 7 | salalah\n",
      "Processing Record 8 of Set 7 | ruse\n",
      "Processing Record 9 of Set 7 | avera\n",
      "Processing Record 10 of Set 7 | kirando\n",
      "Processing Record 11 of Set 7 | kilimatinde\n",
      "Processing Record 12 of Set 7 | tautira\n",
      "Processing Record 13 of Set 7 | buzmeyin\n",
      "Processing Record 14 of Set 7 | sistranda\n",
      "Processing Record 15 of Set 7 | poya\n",
      "Processing Record 16 of Set 7 | saldanha\n",
      "Processing Record 17 of Set 7 | camacha\n",
      "Processing Record 18 of Set 7 | ankazoabo\n",
      "Processing Record 19 of Set 7 | point pedro\n",
      "Processing Record 20 of Set 7 | shubarshi\n",
      "Processing Record 21 of Set 7 | redmond\n",
      "Processing Record 22 of Set 7 | beringovskiy\n",
      "Processing Record 23 of Set 7 | puerto escondido\n",
      "Processing Record 24 of Set 7 | erenhot\n",
      "Processing Record 25 of Set 7 | udachnyy\n",
      "Processing Record 26 of Set 7 | hami\n",
      "Processing Record 27 of Set 7 | bengkulu\n",
      "Processing Record 28 of Set 7 | zharkent\n",
      "Processing Record 29 of Set 7 | quechultenango\n",
      "Processing Record 30 of Set 7 | sorgun\n",
      "Processing Record 31 of Set 7 | desaguadero\n",
      "Processing Record 32 of Set 7 | white rock\n",
      "Processing Record 33 of Set 7 | vredendal\n",
      "Processing Record 34 of Set 7 | fort nelson\n",
      "City not found. Skipping\n",
      "Processing Record 35 of Set 7 | codrington\n",
      "Processing Record 36 of Set 7 | dire\n",
      "Processing Record 37 of Set 7 | taian\n",
      "Processing Record 38 of Set 7 | correntina\n",
      "Processing Record 39 of Set 7 | ostrovnoy\n",
      "Processing Record 40 of Set 7 | nsanje\n",
      "Processing Record 41 of Set 7 | muravlenko\n",
      "Processing Record 42 of Set 7 | sobolevo\n",
      "Processing Record 43 of Set 7 | rawson\n",
      "Processing Record 44 of Set 7 | rio grande\n",
      "Processing Record 45 of Set 7 | nola\n",
      "Processing Record 46 of Set 7 | koutsouras\n",
      "Processing Record 47 of Set 7 | ayan\n",
      "Processing Record 48 of Set 7 | damaturu\n",
      "Processing Record 49 of Set 7 | marawi\n",
      "Processing Record 50 of Set 7 | laguna\n",
      "Processing Record 1 of Set 8 | ust-omchug\n",
      "Processing Record 2 of Set 8 | valley station\n",
      "City not found. Skipping\n",
      "Processing Record 3 of Set 8 | greifensee\n",
      "Processing Record 4 of Set 8 | parrita\n",
      "Processing Record 5 of Set 8 | sola\n",
      "Processing Record 6 of Set 8 | ancud\n",
      "Processing Record 7 of Set 8 | provins\n",
      "Processing Record 8 of Set 8 | mount gambier\n",
      "Processing Record 9 of Set 8 | itarema\n",
      "Processing Record 10 of Set 8 | road town\n",
      "Processing Record 11 of Set 8 | coquimbo\n",
      "Processing Record 12 of Set 8 | dubai\n",
      "City not found. Skipping\n",
      "Processing Record 13 of Set 8 | kaoma\n",
      "City not found. Skipping\n",
      "Processing Record 14 of Set 8 | yatou\n",
      "Processing Record 15 of Set 8 | bolshaya glushitsa\n",
      "Processing Record 16 of Set 8 | schwaigern\n",
      "Processing Record 17 of Set 8 | borgarnes\n",
      "Processing Record 18 of Set 8 | anito\n",
      "Processing Record 19 of Set 8 | boueni\n",
      "Processing Record 20 of Set 8 | netivot\n",
      "Processing Record 21 of Set 8 | gornozavodsk\n",
      "Processing Record 22 of Set 8 | cabedelo\n",
      "Processing Record 23 of Set 8 | nam som\n",
      "Processing Record 24 of Set 8 | ranong\n",
      "Processing Record 25 of Set 8 | long\n",
      "Processing Record 26 of Set 8 | oga\n",
      "Processing Record 27 of Set 8 | dali\n",
      "Processing Record 28 of Set 8 | pangnirtung\n",
      "City not found. Skipping\n",
      "Processing Record 29 of Set 8 | sumbawanga\n",
      "City not found. Skipping\n",
      "Processing Record 30 of Set 8 | hofn\n",
      "Processing Record 31 of Set 8 | pokaran\n",
      "Processing Record 32 of Set 8 | koygorodok\n",
      "Processing Record 33 of Set 8 | kokopo\n",
      "Processing Record 34 of Set 8 | arman\n"
     ]
    },
    {
     "name": "stdout",
     "output_type": "stream",
     "text": [
      "Processing Record 35 of Set 8 | palmer\n",
      "Processing Record 36 of Set 8 | ugoofaaru\n",
      "Processing Record 37 of Set 8 | barela\n",
      "Processing Record 38 of Set 8 | konstantinovka\n",
      "Processing Record 39 of Set 8 | lazaro cardenas\n",
      "Processing Record 40 of Set 8 | isabela\n",
      "Processing Record 41 of Set 8 | baltasi\n",
      "Processing Record 42 of Set 8 | morant bay\n",
      "Processing Record 43 of Set 8 | motema\n",
      "Processing Record 44 of Set 8 | reftinskiy\n",
      "Processing Record 45 of Set 8 | tual\n",
      "Processing Record 46 of Set 8 | taltal\n",
      "Processing Record 47 of Set 8 | terre haute\n",
      "Processing Record 48 of Set 8 | koson\n",
      "Processing Record 49 of Set 8 | donskoye\n",
      "Processing Record 50 of Set 8 | havelock\n",
      "Processing Record 1 of Set 9 | ternate\n",
      "Processing Record 2 of Set 9 | coahuayana\n",
      "Processing Record 3 of Set 9 | vestmannaeyjar\n",
      "Processing Record 4 of Set 9 | morehead\n",
      "Processing Record 5 of Set 9 | innisfail\n",
      "Processing Record 6 of Set 9 | pemangkat\n",
      "Processing Record 7 of Set 9 | rondonopolis\n",
      "Processing Record 8 of Set 9 | oktyabrskiy\n",
      "Processing Record 9 of Set 9 | klyuchi\n",
      "Processing Record 10 of Set 9 | dong hoi\n",
      "Processing Record 11 of Set 9 | cockburn town\n",
      "Processing Record 12 of Set 9 | bodaybo\n",
      "Processing Record 13 of Set 9 | tashara\n",
      "Processing Record 14 of Set 9 | havre\n",
      "Processing Record 15 of Set 9 | lyuban\n",
      "Processing Record 16 of Set 9 | carutapera\n",
      "City not found. Skipping\n",
      "Processing Record 17 of Set 9 | snezhnogorsk\n",
      "Processing Record 18 of Set 9 | nioro\n",
      "Processing Record 19 of Set 9 | luderitz\n",
      "Processing Record 20 of Set 9 | bronnoysund\n",
      "Processing Record 21 of Set 9 | pinawa\n",
      "Processing Record 22 of Set 9 | nouadhibou\n",
      "Processing Record 23 of Set 9 | auriflama\n",
      "City not found. Skipping\n",
      "Processing Record 24 of Set 9 | richards bay\n",
      "Processing Record 25 of Set 9 | haines junction\n",
      "Processing Record 26 of Set 9 | murgab\n",
      "Processing Record 27 of Set 9 | katherine\n",
      "Processing Record 28 of Set 9 | florence\n",
      "Processing Record 29 of Set 9 | resistencia\n",
      "Processing Record 30 of Set 9 | chokurdakh\n",
      "Processing Record 31 of Set 9 | lampazos de naranjo\n",
      "Processing Record 32 of Set 9 | berlevag\n",
      "Processing Record 33 of Set 9 | valparaiso\n",
      "Processing Record 34 of Set 9 | baie-comeau\n",
      "Processing Record 35 of Set 9 | sarahan\n",
      "Processing Record 36 of Set 9 | acapulco\n",
      "Processing Record 37 of Set 9 | nurota\n",
      "Processing Record 38 of Set 9 | maniitsoq\n",
      "Processing Record 39 of Set 9 | ames\n",
      "Processing Record 40 of Set 9 | hirado\n",
      "Processing Record 41 of Set 9 | praia da vitoria\n",
      "City not found. Skipping\n",
      "Processing Record 42 of Set 9 | los llanos de aridane\n",
      "Processing Record 43 of Set 9 | huilong\n",
      "Processing Record 44 of Set 9 | vostok\n",
      "City not found. Skipping\n",
      "Processing Record 45 of Set 9 | nome\n",
      "Processing Record 46 of Set 9 | shenjiamen\n",
      "Processing Record 47 of Set 9 | santa maria\n",
      "Processing Record 48 of Set 9 | isangel\n",
      "Processing Record 49 of Set 9 | winchester\n",
      "Processing Record 50 of Set 9 | arco\n",
      "Processing Record 1 of Set 10 | tubuala\n",
      "Processing Record 2 of Set 10 | zhezkazgan\n",
      "Processing Record 3 of Set 10 | winnemucca\n",
      "City not found. Skipping\n",
      "Processing Record 4 of Set 10 | yar-sale\n",
      "Processing Record 5 of Set 10 | oranjestad\n",
      "Processing Record 6 of Set 10 | harrismith\n",
      "Processing Record 7 of Set 10 | farcasu\n",
      "Processing Record 8 of Set 10 | olafsvik\n",
      "Processing Record 9 of Set 10 | muleba\n",
      "Processing Record 10 of Set 10 | karratha\n",
      "Processing Record 11 of Set 10 | nuuk\n",
      "Processing Record 12 of Set 10 | bayan\n",
      "Processing Record 13 of Set 10 | taoudenni\n",
      "Processing Record 14 of Set 10 | bartica\n",
      "Processing Record 15 of Set 10 | maragogi\n",
      "Processing Record 16 of Set 10 | iranshahr\n",
      "Processing Record 17 of Set 10 | oranjemund\n",
      "Processing Record 18 of Set 10 | luganville\n",
      "Processing Record 19 of Set 10 | maraa\n",
      "Processing Record 20 of Set 10 | port macquarie\n",
      "Processing Record 21 of Set 10 | yerbogachen\n",
      "Processing Record 22 of Set 10 | feldkirchen an der donau\n",
      "Processing Record 23 of Set 10 | baruun-urt\n",
      "Processing Record 24 of Set 10 | kawardha\n",
      "Processing Record 25 of Set 10 | buala\n",
      "Processing Record 26 of Set 10 | honningsvag\n",
      "Processing Record 27 of Set 10 | zheleznodorozhnyy\n",
      "Processing Record 28 of Set 10 | mampong\n",
      "Processing Record 29 of Set 10 | saint-augustin\n",
      "Processing Record 30 of Set 10 | xam nua\n",
      "Processing Record 31 of Set 10 | oistins\n",
      "Processing Record 32 of Set 10 | albion\n",
      "Processing Record 33 of Set 10 | japura\n",
      "Processing Record 34 of Set 10 | aksay\n",
      "Processing Record 35 of Set 10 | cambridge\n",
      "Processing Record 36 of Set 10 | urusha\n",
      "City not found. Skipping\n",
      "Processing Record 37 of Set 10 | farafangana\n",
      "Processing Record 38 of Set 10 | boddam\n",
      "Processing Record 39 of Set 10 | freetown\n",
      "Processing Record 40 of Set 10 | warrnambool\n",
      "Processing Record 41 of Set 10 | kathu\n",
      "Processing Record 42 of Set 10 | puri\n",
      "Processing Record 43 of Set 10 | cayenne\n",
      "Processing Record 44 of Set 10 | almeria\n",
      "Processing Record 45 of Set 10 | bathsheba\n",
      "Processing Record 46 of Set 10 | egvekinot\n",
      "Processing Record 47 of Set 10 | saint-francois\n",
      "City not found. Skipping\n",
      "Processing Record 48 of Set 10 | alugan\n",
      "Processing Record 49 of Set 10 | chhabra\n",
      "Processing Record 50 of Set 10 | krasnoselkup\n",
      "Processing Record 1 of Set 11 | leshukonskoye\n",
      "Processing Record 2 of Set 11 | general pico\n",
      "Processing Record 3 of Set 11 | inhambane\n",
      "Processing Record 4 of Set 11 | bazarnyy syzgan\n",
      "Processing Record 5 of Set 11 | nouna\n",
      "Processing Record 6 of Set 11 | calbuco\n",
      "Processing Record 7 of Set 11 | banda aceh\n",
      "Processing Record 8 of Set 11 | namibe\n",
      "Processing Record 9 of Set 11 | tonota\n",
      "Processing Record 10 of Set 11 | capaci\n",
      "Processing Record 11 of Set 11 | kristiansund\n",
      "Processing Record 12 of Set 11 | medea\n",
      "Processing Record 13 of Set 11 | privolnyy\n",
      "Processing Record 14 of Set 11 | lethem\n",
      "Processing Record 15 of Set 11 | qaqortoq\n",
      "Processing Record 16 of Set 11 | gillette\n",
      "Processing Record 17 of Set 11 | mujiayingzi\n",
      "Processing Record 18 of Set 11 | kainantu\n",
      "City not found. Skipping\n",
      "Processing Record 19 of Set 11 | mehamn\n",
      "Processing Record 20 of Set 11 | margate\n",
      "Processing Record 21 of Set 11 | mutum\n",
      "Processing Record 22 of Set 11 | catio\n",
      "Processing Record 23 of Set 11 | trincomalee\n",
      "Processing Record 24 of Set 11 | omsukchan\n",
      "Processing Record 25 of Set 11 | kindu\n",
      "Processing Record 26 of Set 11 | mazamari\n",
      "Processing Record 27 of Set 11 | kayerkan\n",
      "Processing Record 28 of Set 11 | pankrushikha\n",
      "Processing Record 29 of Set 11 | terrak\n",
      "Processing Record 30 of Set 11 | jacmel\n",
      "Processing Record 31 of Set 11 | bundaberg\n",
      "Processing Record 32 of Set 11 | cesis\n",
      "Processing Record 33 of Set 11 | artyom\n",
      "Processing Record 34 of Set 11 | ponazyrevo\n",
      "Processing Record 35 of Set 11 | lypova dolyna\n",
      "Processing Record 36 of Set 11 | tongliao\n",
      "Processing Record 37 of Set 11 | astoria\n",
      "Processing Record 38 of Set 11 | atambua\n",
      "Processing Record 39 of Set 11 | urubicha\n",
      "Processing Record 40 of Set 11 | te anau\n",
      "Processing Record 41 of Set 11 | hobyo\n",
      "Processing Record 42 of Set 11 | kenai\n",
      "Processing Record 43 of Set 11 | chapais\n",
      "Processing Record 44 of Set 11 | hambantota\n",
      "Processing Record 45 of Set 11 | leopoldina\n",
      "Processing Record 46 of Set 11 | bima\n",
      "Processing Record 47 of Set 11 | nauta\n",
      "Processing Record 48 of Set 11 | telenesti\n",
      "Processing Record 49 of Set 11 | guane\n",
      "Processing Record 50 of Set 11 | kinablangan\n",
      "Processing Record 1 of Set 12 | mildura\n",
      "Processing Record 2 of Set 12 | petropavlovsk-kamchatskiy\n",
      "Processing Record 3 of Set 12 | port hardy\n",
      "Processing Record 4 of Set 12 | shwebo\n",
      "Processing Record 5 of Set 12 | tutoia\n"
     ]
    }
   ],
   "source": [
    "\n",
    "#set up lists to hold repsonse info\n",
    "weather_info=[]\n",
    "\n",
    "#counters\n",
    "record = 1\n",
    "set = 1\n",
    "\n",
    "#create loop to generate list of cities\n",
    "for city in cities:\n",
    "    try:\n",
    "        response= requests.get(query_url + city).json()\n",
    "        city_name = response['name']\n",
    "        lat =response['coord']['lat']\n",
    "        lng = response['coord']['lon']\n",
    "        tempmax = response['main']['temp_max']\n",
    "        hum= response['main']['humidity']\n",
    "        cloud =response['clouds']['all']\n",
    "        wind=response['wind']['speed']\n",
    "        country=response['sys']['country']\n",
    "        date = response['dt']    \n",
    "        \n",
    "        weather_info.append({\"City\": city_name, \n",
    "                   \"Lat\": lat, \n",
    "                   \"Lng\": lng, \n",
    "                   \"Max Temp\": tempmax, \n",
    "                   \"Humidity\": hum, \n",
    "                   \"Cloudiness\": cloud, \n",
    "                   \"Wind Speed\": wind, \n",
    "                   \"Country\": country, \n",
    "                   \"Date\": date})\n",
    "                \n",
    "        #print record number with city\n",
    "        print(f\"Processing Record {record} of Set {set} | {city}\")\n",
    "        record= record + 1\n",
    "    #exception to so code doesn't break    \n",
    "    except (KeyError, IndexError):\n",
    "        print(\"City not found. Skipping\")   \n",
    "    #group together in sets of 50\n",
    "    if record == 51:\n",
    "        record= 1\n",
    "        set = set + 1"
   ]
  },
  {
   "cell_type": "markdown",
   "metadata": {},
   "source": [
    "### Convert Raw Data to DataFrame\n",
    "* Export the city data into a .csv.\n",
    "* Display the DataFrame"
   ]
  },
  {
   "cell_type": "code",
   "execution_count": 7,
   "metadata": {},
   "outputs": [
    {
     "data": {
      "text/html": [
       "<div>\n",
       "<style scoped>\n",
       "    .dataframe tbody tr th:only-of-type {\n",
       "        vertical-align: middle;\n",
       "    }\n",
       "\n",
       "    .dataframe tbody tr th {\n",
       "        vertical-align: top;\n",
       "    }\n",
       "\n",
       "    .dataframe thead th {\n",
       "        text-align: right;\n",
       "    }\n",
       "</style>\n",
       "<table border=\"1\" class=\"dataframe\">\n",
       "  <thead>\n",
       "    <tr style=\"text-align: right;\">\n",
       "      <th></th>\n",
       "      <th>City</th>\n",
       "      <th>Lat</th>\n",
       "      <th>Lng</th>\n",
       "      <th>Max Temp</th>\n",
       "      <th>Humidity</th>\n",
       "      <th>Cloudiness</th>\n",
       "      <th>Wind Speed</th>\n",
       "      <th>Country</th>\n",
       "      <th>Date</th>\n",
       "    </tr>\n",
       "  </thead>\n",
       "  <tbody>\n",
       "    <tr>\n",
       "      <th>0</th>\n",
       "      <td>Wadena</td>\n",
       "      <td>46.44</td>\n",
       "      <td>-95.14</td>\n",
       "      <td>75.20</td>\n",
       "      <td>50</td>\n",
       "      <td>1</td>\n",
       "      <td>4.47</td>\n",
       "      <td>US</td>\n",
       "      <td>1595285337</td>\n",
       "    </tr>\n",
       "    <tr>\n",
       "      <th>1</th>\n",
       "      <td>Mataura</td>\n",
       "      <td>-46.19</td>\n",
       "      <td>168.86</td>\n",
       "      <td>39.00</td>\n",
       "      <td>83</td>\n",
       "      <td>76</td>\n",
       "      <td>3.00</td>\n",
       "      <td>NZ</td>\n",
       "      <td>1595284757</td>\n",
       "    </tr>\n",
       "    <tr>\n",
       "      <th>2</th>\n",
       "      <td>Tuktoyaktuk</td>\n",
       "      <td>69.45</td>\n",
       "      <td>-133.04</td>\n",
       "      <td>42.80</td>\n",
       "      <td>81</td>\n",
       "      <td>90</td>\n",
       "      <td>9.17</td>\n",
       "      <td>CA</td>\n",
       "      <td>1595285319</td>\n",
       "    </tr>\n",
       "    <tr>\n",
       "      <th>3</th>\n",
       "      <td>Necochea</td>\n",
       "      <td>-38.55</td>\n",
       "      <td>-58.74</td>\n",
       "      <td>52.00</td>\n",
       "      <td>94</td>\n",
       "      <td>100</td>\n",
       "      <td>15.99</td>\n",
       "      <td>AR</td>\n",
       "      <td>1595285338</td>\n",
       "    </tr>\n",
       "    <tr>\n",
       "      <th>4</th>\n",
       "      <td>Bluff</td>\n",
       "      <td>-46.60</td>\n",
       "      <td>168.33</td>\n",
       "      <td>39.00</td>\n",
       "      <td>83</td>\n",
       "      <td>93</td>\n",
       "      <td>3.00</td>\n",
       "      <td>NZ</td>\n",
       "      <td>1595285338</td>\n",
       "    </tr>\n",
       "    <tr>\n",
       "      <th>...</th>\n",
       "      <td>...</td>\n",
       "      <td>...</td>\n",
       "      <td>...</td>\n",
       "      <td>...</td>\n",
       "      <td>...</td>\n",
       "      <td>...</td>\n",
       "      <td>...</td>\n",
       "      <td>...</td>\n",
       "      <td>...</td>\n",
       "    </tr>\n",
       "    <tr>\n",
       "      <th>550</th>\n",
       "      <td>Mildura</td>\n",
       "      <td>-34.20</td>\n",
       "      <td>142.15</td>\n",
       "      <td>39.20</td>\n",
       "      <td>100</td>\n",
       "      <td>94</td>\n",
       "      <td>5.82</td>\n",
       "      <td>AU</td>\n",
       "      <td>1595285416</td>\n",
       "    </tr>\n",
       "    <tr>\n",
       "      <th>551</th>\n",
       "      <td>Petropavlovsk-Kamchatskiy</td>\n",
       "      <td>53.05</td>\n",
       "      <td>158.65</td>\n",
       "      <td>57.20</td>\n",
       "      <td>87</td>\n",
       "      <td>75</td>\n",
       "      <td>4.47</td>\n",
       "      <td>RU</td>\n",
       "      <td>1595285417</td>\n",
       "    </tr>\n",
       "    <tr>\n",
       "      <th>552</th>\n",
       "      <td>Port Hardy</td>\n",
       "      <td>50.70</td>\n",
       "      <td>-127.42</td>\n",
       "      <td>62.60</td>\n",
       "      <td>88</td>\n",
       "      <td>40</td>\n",
       "      <td>10.29</td>\n",
       "      <td>CA</td>\n",
       "      <td>1595285123</td>\n",
       "    </tr>\n",
       "    <tr>\n",
       "      <th>553</th>\n",
       "      <td>Shwebo</td>\n",
       "      <td>22.57</td>\n",
       "      <td>95.70</td>\n",
       "      <td>78.08</td>\n",
       "      <td>86</td>\n",
       "      <td>100</td>\n",
       "      <td>8.97</td>\n",
       "      <td>MM</td>\n",
       "      <td>1595285417</td>\n",
       "    </tr>\n",
       "    <tr>\n",
       "      <th>554</th>\n",
       "      <td>Tutóia</td>\n",
       "      <td>-2.76</td>\n",
       "      <td>-42.27</td>\n",
       "      <td>77.36</td>\n",
       "      <td>85</td>\n",
       "      <td>95</td>\n",
       "      <td>5.06</td>\n",
       "      <td>BR</td>\n",
       "      <td>1595285417</td>\n",
       "    </tr>\n",
       "  </tbody>\n",
       "</table>\n",
       "<p>555 rows × 9 columns</p>\n",
       "</div>"
      ],
      "text/plain": [
       "                          City    Lat     Lng  Max Temp  Humidity  Cloudiness  \\\n",
       "0                       Wadena  46.44  -95.14     75.20        50           1   \n",
       "1                      Mataura -46.19  168.86     39.00        83          76   \n",
       "2                  Tuktoyaktuk  69.45 -133.04     42.80        81          90   \n",
       "3                     Necochea -38.55  -58.74     52.00        94         100   \n",
       "4                        Bluff -46.60  168.33     39.00        83          93   \n",
       "..                         ...    ...     ...       ...       ...         ...   \n",
       "550                    Mildura -34.20  142.15     39.20       100          94   \n",
       "551  Petropavlovsk-Kamchatskiy  53.05  158.65     57.20        87          75   \n",
       "552                 Port Hardy  50.70 -127.42     62.60        88          40   \n",
       "553                     Shwebo  22.57   95.70     78.08        86         100   \n",
       "554                     Tutóia  -2.76  -42.27     77.36        85          95   \n",
       "\n",
       "     Wind Speed Country        Date  \n",
       "0          4.47      US  1595285337  \n",
       "1          3.00      NZ  1595284757  \n",
       "2          9.17      CA  1595285319  \n",
       "3         15.99      AR  1595285338  \n",
       "4          3.00      NZ  1595285338  \n",
       "..          ...     ...         ...  \n",
       "550        5.82      AU  1595285416  \n",
       "551        4.47      RU  1595285417  \n",
       "552       10.29      CA  1595285123  \n",
       "553        8.97      MM  1595285417  \n",
       "554        5.06      BR  1595285417  \n",
       "\n",
       "[555 rows x 9 columns]"
      ]
     },
     "execution_count": 7,
     "metadata": {},
     "output_type": "execute_result"
    }
   ],
   "source": [
    "#create dataframe pulled from API call\n",
    "weatherinfo_df= pd.DataFrame(weather_info)\n",
    "weatherinfo_df\n"
   ]
  },
  {
   "cell_type": "code",
   "execution_count": 8,
   "metadata": {},
   "outputs": [
    {
     "data": {
      "text/plain": [
       "City          555\n",
       "Lat           555\n",
       "Lng           555\n",
       "Max Temp      555\n",
       "Humidity      555\n",
       "Cloudiness    555\n",
       "Wind Speed    555\n",
       "Country       555\n",
       "Date          555\n",
       "dtype: int64"
      ]
     },
     "execution_count": 8,
     "metadata": {},
     "output_type": "execute_result"
    }
   ],
   "source": [
    "#count results\n",
    "weatherinfo_df.count()"
   ]
  },
  {
   "cell_type": "markdown",
   "metadata": {},
   "source": [
    "## Inspect the data and remove the cities where the humidity > 100%.\n",
    "----\n",
    "Skip this step if there are no cities that have humidity > 100%. "
   ]
  },
  {
   "cell_type": "code",
   "execution_count": 23,
   "metadata": {},
   "outputs": [
    {
     "data": {
      "text/html": [
       "<div>\n",
       "<style scoped>\n",
       "    .dataframe tbody tr th:only-of-type {\n",
       "        vertical-align: middle;\n",
       "    }\n",
       "\n",
       "    .dataframe tbody tr th {\n",
       "        vertical-align: top;\n",
       "    }\n",
       "\n",
       "    .dataframe thead th {\n",
       "        text-align: right;\n",
       "    }\n",
       "</style>\n",
       "<table border=\"1\" class=\"dataframe\">\n",
       "  <thead>\n",
       "    <tr style=\"text-align: right;\">\n",
       "      <th></th>\n",
       "      <th>Lat</th>\n",
       "      <th>Lng</th>\n",
       "      <th>Max Temp</th>\n",
       "      <th>Humidity</th>\n",
       "      <th>Cloudiness</th>\n",
       "      <th>Wind Speed</th>\n",
       "      <th>Date</th>\n",
       "    </tr>\n",
       "  </thead>\n",
       "  <tbody>\n",
       "    <tr>\n",
       "      <th>count</th>\n",
       "      <td>555.000000</td>\n",
       "      <td>555.000000</td>\n",
       "      <td>555.000000</td>\n",
       "      <td>555.000000</td>\n",
       "      <td>555.000000</td>\n",
       "      <td>555.000000</td>\n",
       "      <td>5.550000e+02</td>\n",
       "    </tr>\n",
       "    <tr>\n",
       "      <th>mean</th>\n",
       "      <td>19.840523</td>\n",
       "      <td>15.891946</td>\n",
       "      <td>69.573171</td>\n",
       "      <td>70.953153</td>\n",
       "      <td>51.405405</td>\n",
       "      <td>7.604144</td>\n",
       "      <td>1.595285e+09</td>\n",
       "    </tr>\n",
       "    <tr>\n",
       "      <th>std</th>\n",
       "      <td>32.891098</td>\n",
       "      <td>88.314559</td>\n",
       "      <td>13.604968</td>\n",
       "      <td>19.946444</td>\n",
       "      <td>38.751448</td>\n",
       "      <td>5.110122</td>\n",
       "      <td>1.078493e+02</td>\n",
       "    </tr>\n",
       "    <tr>\n",
       "      <th>min</th>\n",
       "      <td>-54.800000</td>\n",
       "      <td>-179.170000</td>\n",
       "      <td>28.400000</td>\n",
       "      <td>7.000000</td>\n",
       "      <td>0.000000</td>\n",
       "      <td>0.040000</td>\n",
       "      <td>1.595285e+09</td>\n",
       "    </tr>\n",
       "    <tr>\n",
       "      <th>25%</th>\n",
       "      <td>-6.255000</td>\n",
       "      <td>-61.145000</td>\n",
       "      <td>59.000000</td>\n",
       "      <td>61.000000</td>\n",
       "      <td>8.500000</td>\n",
       "      <td>3.880000</td>\n",
       "      <td>1.595285e+09</td>\n",
       "    </tr>\n",
       "    <tr>\n",
       "      <th>50%</th>\n",
       "      <td>22.290000</td>\n",
       "      <td>20.920000</td>\n",
       "      <td>71.600000</td>\n",
       "      <td>75.000000</td>\n",
       "      <td>54.000000</td>\n",
       "      <td>6.780000</td>\n",
       "      <td>1.595285e+09</td>\n",
       "    </tr>\n",
       "    <tr>\n",
       "      <th>75%</th>\n",
       "      <td>46.555000</td>\n",
       "      <td>89.630000</td>\n",
       "      <td>80.010000</td>\n",
       "      <td>85.000000</td>\n",
       "      <td>90.000000</td>\n",
       "      <td>10.290000</td>\n",
       "      <td>1.595285e+09</td>\n",
       "    </tr>\n",
       "    <tr>\n",
       "      <th>max</th>\n",
       "      <td>78.220000</td>\n",
       "      <td>179.320000</td>\n",
       "      <td>104.000000</td>\n",
       "      <td>100.000000</td>\n",
       "      <td>100.000000</td>\n",
       "      <td>29.120000</td>\n",
       "      <td>1.595285e+09</td>\n",
       "    </tr>\n",
       "  </tbody>\n",
       "</table>\n",
       "</div>"
      ],
      "text/plain": [
       "              Lat         Lng    Max Temp    Humidity  Cloudiness  Wind Speed  \\\n",
       "count  555.000000  555.000000  555.000000  555.000000  555.000000  555.000000   \n",
       "mean    19.840523   15.891946   69.573171   70.953153   51.405405    7.604144   \n",
       "std     32.891098   88.314559   13.604968   19.946444   38.751448    5.110122   \n",
       "min    -54.800000 -179.170000   28.400000    7.000000    0.000000    0.040000   \n",
       "25%     -6.255000  -61.145000   59.000000   61.000000    8.500000    3.880000   \n",
       "50%     22.290000   20.920000   71.600000   75.000000   54.000000    6.780000   \n",
       "75%     46.555000   89.630000   80.010000   85.000000   90.000000   10.290000   \n",
       "max     78.220000  179.320000  104.000000  100.000000  100.000000   29.120000   \n",
       "\n",
       "               Date  \n",
       "count  5.550000e+02  \n",
       "mean   1.595285e+09  \n",
       "std    1.078493e+02  \n",
       "min    1.595285e+09  \n",
       "25%    1.595285e+09  \n",
       "50%    1.595285e+09  \n",
       "75%    1.595285e+09  \n",
       "max    1.595285e+09  "
      ]
     },
     "execution_count": 23,
     "metadata": {},
     "output_type": "execute_result"
    }
   ],
   "source": [
    "#display statistics table\n",
    "weatherinfo_df.describe()"
   ]
  },
  {
   "cell_type": "code",
   "execution_count": 10,
   "metadata": {},
   "outputs": [
    {
     "data": {
      "text/html": [
       "<div>\n",
       "<style scoped>\n",
       "    .dataframe tbody tr th:only-of-type {\n",
       "        vertical-align: middle;\n",
       "    }\n",
       "\n",
       "    .dataframe tbody tr th {\n",
       "        vertical-align: top;\n",
       "    }\n",
       "\n",
       "    .dataframe thead th {\n",
       "        text-align: right;\n",
       "    }\n",
       "</style>\n",
       "<table border=\"1\" class=\"dataframe\">\n",
       "  <thead>\n",
       "    <tr style=\"text-align: right;\">\n",
       "      <th></th>\n",
       "      <th>City</th>\n",
       "      <th>Lat</th>\n",
       "      <th>Lng</th>\n",
       "      <th>Max Temp</th>\n",
       "      <th>Humidity</th>\n",
       "      <th>Cloudiness</th>\n",
       "      <th>Wind Speed</th>\n",
       "      <th>Country</th>\n",
       "      <th>Date</th>\n",
       "    </tr>\n",
       "  </thead>\n",
       "  <tbody>\n",
       "  </tbody>\n",
       "</table>\n",
       "</div>"
      ],
      "text/plain": [
       "Empty DataFrame\n",
       "Columns: [City, Lat, Lng, Max Temp, Humidity, Cloudiness, Wind Speed, Country, Date]\n",
       "Index: []"
      ]
     },
     "execution_count": 10,
     "metadata": {},
     "output_type": "execute_result"
    }
   ],
   "source": [
    "#  Get the indices of cities that have humidity over 100%.\n",
    "hum_hundred = weatherinfo_df.loc[weatherinfo_df[\"Humidity\"] > 100]\n",
    "hum_hundred"
   ]
  },
  {
   "cell_type": "code",
   "execution_count": 11,
   "metadata": {},
   "outputs": [],
   "source": [
    "#skipped this step because there were no cities with humidity over 100%\n",
    "# Make a new DataFrame equal to the city data to drop all humidity outliers by index.\n",
    "# Passing \"inplace=False\" will make a copy of the city_data DataFrame, which we call \"clean_city_data\".\n",
    "#clean_city_data= "
   ]
  },
  {
   "cell_type": "code",
   "execution_count": 12,
   "metadata": {},
   "outputs": [
    {
     "data": {
      "text/html": [
       "<div>\n",
       "<style scoped>\n",
       "    .dataframe tbody tr th:only-of-type {\n",
       "        vertical-align: middle;\n",
       "    }\n",
       "\n",
       "    .dataframe tbody tr th {\n",
       "        vertical-align: top;\n",
       "    }\n",
       "\n",
       "    .dataframe thead th {\n",
       "        text-align: right;\n",
       "    }\n",
       "</style>\n",
       "<table border=\"1\" class=\"dataframe\">\n",
       "  <thead>\n",
       "    <tr style=\"text-align: right;\">\n",
       "      <th></th>\n",
       "      <th>City</th>\n",
       "      <th>Lat</th>\n",
       "      <th>Lng</th>\n",
       "      <th>Max Temp</th>\n",
       "      <th>Humidity</th>\n",
       "      <th>Cloudiness</th>\n",
       "      <th>Wind Speed</th>\n",
       "      <th>Country</th>\n",
       "      <th>Date</th>\n",
       "    </tr>\n",
       "  </thead>\n",
       "  <tbody>\n",
       "    <tr>\n",
       "      <th>0</th>\n",
       "      <td>Wadena</td>\n",
       "      <td>46.44</td>\n",
       "      <td>-95.14</td>\n",
       "      <td>75.2</td>\n",
       "      <td>50</td>\n",
       "      <td>1</td>\n",
       "      <td>4.47</td>\n",
       "      <td>US</td>\n",
       "      <td>1595285337</td>\n",
       "    </tr>\n",
       "    <tr>\n",
       "      <th>1</th>\n",
       "      <td>Mataura</td>\n",
       "      <td>-46.19</td>\n",
       "      <td>168.86</td>\n",
       "      <td>39.0</td>\n",
       "      <td>83</td>\n",
       "      <td>76</td>\n",
       "      <td>3.00</td>\n",
       "      <td>NZ</td>\n",
       "      <td>1595284757</td>\n",
       "    </tr>\n",
       "    <tr>\n",
       "      <th>2</th>\n",
       "      <td>Tuktoyaktuk</td>\n",
       "      <td>69.45</td>\n",
       "      <td>-133.04</td>\n",
       "      <td>42.8</td>\n",
       "      <td>81</td>\n",
       "      <td>90</td>\n",
       "      <td>9.17</td>\n",
       "      <td>CA</td>\n",
       "      <td>1595285319</td>\n",
       "    </tr>\n",
       "    <tr>\n",
       "      <th>3</th>\n",
       "      <td>Necochea</td>\n",
       "      <td>-38.55</td>\n",
       "      <td>-58.74</td>\n",
       "      <td>52.0</td>\n",
       "      <td>94</td>\n",
       "      <td>100</td>\n",
       "      <td>15.99</td>\n",
       "      <td>AR</td>\n",
       "      <td>1595285338</td>\n",
       "    </tr>\n",
       "    <tr>\n",
       "      <th>4</th>\n",
       "      <td>Bluff</td>\n",
       "      <td>-46.60</td>\n",
       "      <td>168.33</td>\n",
       "      <td>39.0</td>\n",
       "      <td>83</td>\n",
       "      <td>93</td>\n",
       "      <td>3.00</td>\n",
       "      <td>NZ</td>\n",
       "      <td>1595285338</td>\n",
       "    </tr>\n",
       "  </tbody>\n",
       "</table>\n",
       "</div>"
      ],
      "text/plain": [
       "          City    Lat     Lng  Max Temp  Humidity  Cloudiness  Wind Speed  \\\n",
       "0       Wadena  46.44  -95.14      75.2        50           1        4.47   \n",
       "1      Mataura -46.19  168.86      39.0        83          76        3.00   \n",
       "2  Tuktoyaktuk  69.45 -133.04      42.8        81          90        9.17   \n",
       "3     Necochea -38.55  -58.74      52.0        94         100       15.99   \n",
       "4        Bluff -46.60  168.33      39.0        83          93        3.00   \n",
       "\n",
       "  Country        Date  \n",
       "0      US  1595285337  \n",
       "1      NZ  1595284757  \n",
       "2      CA  1595285319  \n",
       "3      AR  1595285338  \n",
       "4      NZ  1595285338  "
      ]
     },
     "execution_count": 12,
     "metadata": {},
     "output_type": "execute_result"
    }
   ],
   "source": [
    "# Export the City_Data into a csv\n",
    "weatherinfo_df.to_csv(\"../output_data/cities.csv\")\n",
    "weatherinfo_df.head()"
   ]
  },
  {
   "cell_type": "markdown",
   "metadata": {},
   "source": [
    "## Plotting the Data\n",
    "* Use proper labeling of the plots using plot titles (including date of analysis) and axes labels.\n",
    "* Save the plotted figures as .pngs."
   ]
  },
  {
   "cell_type": "markdown",
   "metadata": {},
   "source": [
    "## Latitude vs. Temperature Plot"
   ]
  },
  {
   "cell_type": "code",
   "execution_count": 13,
   "metadata": {
    "scrolled": true
   },
   "outputs": [
    {
     "data": {
      "text/plain": [
       "<function matplotlib.pyplot.show(*args, **kw)>"
      ]
     },
     "execution_count": 13,
     "metadata": {},
     "output_type": "execute_result"
    },
    {
     "data": {
      "image/png": "[encoded data removed]",
      "text/plain": [
       "<Figure size 432x288 with 1 Axes>"
      ]
     },
     "metadata": {
      "needs_background": "light"
     },
     "output_type": "display_data"
    }
   ],
   "source": [
    "#scatter plot for lat vs temp\n",
    "plt.scatter(weatherinfo_df[\"Lat\"], weatherinfo_df[\"Max Temp\"])\n",
    "#make it pretty\n",
    "plt.xlabel(\"Latitude\")\n",
    "plt.ylabel(\"Max Temp\")\n",
    "plt.title(\"City Latitude vs Max Temperature\")\n",
    "plt.grid(True)\n",
    "plt.show"
   ]
  },
  {
   "cell_type": "markdown",
   "metadata": {},
   "source": [
    "## Latitude vs. Humidity Plot"
   ]
  },
  {
   "cell_type": "code",
   "execution_count": 14,
   "metadata": {},
   "outputs": [
    {
     "data": {
      "text/plain": [
       "<function matplotlib.pyplot.show(*args, **kw)>"
      ]
     },
     "execution_count": 14,
     "metadata": {},
     "output_type": "execute_result"
    },
    {
     "data": {
      "image/png": "[encoded data removed]",
      "text/plain": [
       "<Figure size 432x288 with 1 Axes>"
      ]
     },
     "metadata": {
      "needs_background": "light"
     },
     "output_type": "display_data"
    }
   ],
   "source": [
    "#scatter plot for lat vs humidity\n",
    "plt.scatter(weatherinfo_df[\"Lat\"], weatherinfo_df[\"Humidity\"])\n",
    "#make it pretty\n",
    "plt.xlabel(\"Latitude\")\n",
    "plt.ylabel(\"Humidity\")\n",
    "plt.title(\"City Latitude vs Humidity\")\n",
    "plt.grid(True)\n",
    "plt.show"
   ]
  },
  {
   "cell_type": "markdown",
   "metadata": {},
   "source": [
    "## Latitude vs. Cloudiness Plot"
   ]
  },
  {
   "cell_type": "code",
   "execution_count": 15,
   "metadata": {},
   "outputs": [
    {
     "data": {
      "text/plain": [
       "<function matplotlib.pyplot.show(*args, **kw)>"
      ]
     },
     "execution_count": 15,
     "metadata": {},
     "output_type": "execute_result"
    },
    {
     "data": {
      "image/png": "[encoded data removed]",
      "text/plain": [
       "<Figure size 432x288 with 1 Axes>"
      ]
     },
     "metadata": {
      "needs_background": "light"
     },
     "output_type": "display_data"
    }
   ],
   "source": [
    "#scatter plot lat vs cloudiness\n",
    "plt.scatter(weatherinfo_df[\"Lat\"], weatherinfo_df[\"Cloudiness\"])\n",
    "#make it pretty\n",
    "plt.xlabel(\"Latitude\")\n",
    "plt.ylabel(\"Cloudiness\")\n",
    "plt.title(\"City Latitude vs Cloudiness\")\n",
    "plt.grid(True)\n",
    "plt.show"
   ]
  },
  {
   "cell_type": "markdown",
   "metadata": {},
   "source": [
    "## Latitude vs. Wind Speed Plot"
   ]
  },
  {
   "cell_type": "code",
   "execution_count": 16,
   "metadata": {},
   "outputs": [
    {
     "data": {
      "text/plain": [
       "<function matplotlib.pyplot.show(*args, **kw)>"
      ]
     },
     "execution_count": 16,
     "metadata": {},
     "output_type": "execute_result"
    },
    {
     "data": {
      "image/png": "[encoded data removed]",
      "text/plain": [
       "<Figure size 432x288 with 1 Axes>"
      ]
     },
     "metadata": {
      "needs_background": "light"
     },
     "output_type": "display_data"
    }
   ],
   "source": [
    "#scatter plot for lat vs wind\n",
    "plt.scatter(weatherinfo_df[\"Lat\"], weatherinfo_df[\"Max Temp\"])\n",
    "#make it pretty\n",
    "plt.xlabel(\"Latitude\")\n",
    "plt.ylabel(\"Max Temp\")\n",
    "plt.title(\"City Latitude vs Max Temperature\")\n",
    "plt.grid(True)\n",
    "plt.show"
   ]
  },
  {
   "cell_type": "markdown",
   "metadata": {},
   "source": [
    "## Linear Regression"
   ]
  },
  {
   "cell_type": "code",
   "execution_count": 17,
   "metadata": {},
   "outputs": [],
   "source": [
    "# OPTIONAL: Create a function to create Linear Regression plots"
   ]
  },
  {
   "cell_type": "code",
   "execution_count": 18,
   "metadata": {},
   "outputs": [],
   "source": [
    "# Create Northern and Southern Hemisphere DataFrames\n",
    "northern_df= weatherinfo_df.loc[weatherinfo_df[\"Lat\"] > 0, :]\n",
    "southern_df= weatherinfo_df.loc[weatherinfo_df[\"Lat\"] < 0, :]"
   ]
  },
  {
   "cell_type": "markdown",
   "metadata": {},
   "source": [
    "####  Northern Hemisphere - Max Temp vs. Latitude Linear Regression"
   ]
  },
  {
   "cell_type": "code",
   "execution_count": 19,
   "metadata": {},
   "outputs": [
    {
     "name": "stdout",
     "output_type": "stream",
     "text": [
      "The r-squared is: -0.6960412985512567\n"
     ]
    },
    {
     "data": {
      "text/plain": [
       "<function matplotlib.pyplot.show(*args, **kw)>"
      ]
     },
     "execution_count": 19,
     "metadata": {},
     "output_type": "execute_result"
    },
    {
     "data": {
      "image/png": "[encoded data removed]",
      "text/plain": [
       "<Figure size 432x288 with 1 Axes>"
      ]
     },
     "metadata": {
      "needs_background": "light"
     },
     "output_type": "display_data"
    }
   ],
   "source": [
    "#regression for north temp vs lat\n",
    "x_values = northern_df[\"Lat\"]\n",
    "y_values = northern_df[\"Max Temp\"]\n",
    "(slope, intercept, rvalue, pvalue, stderr) = linregress(x_values, y_values)\n",
    "regress_values = x_values * slope + intercept\n",
    "\n",
    "line_eq = \"y = \" + str(round(slope, 2)) + \"x + \" + str(round(intercept,2))\n",
    "\n",
    "plt.scatter(x_values, y_values)\n",
    "plt.plot(x_values, regress_values, \"r-\")\n",
    "plt.annotate(line_eq, (5, 30), fontsize=12, color= \"red\")\n",
    "plt.xlabel(\"Latitude\")\n",
    "plt.ylabel(\"Max Temperature\")\n",
    "plt.title(\"Northern Hemisphere - Max Temp vs. Latitude Linear Regression\")\n",
    "print(f\"The r-squared is: {rvalue}\")\n",
    "\n",
    "plt.show\n"
   ]
  },
  {
   "cell_type": "markdown",
   "metadata": {},
   "source": [
    "####  Southern Hemisphere - Max Temp vs. Latitude Linear Regression"
   ]
  },
  {
   "cell_type": "code",
   "execution_count": 20,
   "metadata": {},
   "outputs": [
    {
     "name": "stdout",
     "output_type": "stream",
     "text": [
      "The r-squared is: 0.750416424836275\n"
     ]
    },
    {
     "data": {
      "text/plain": [
       "<function matplotlib.pyplot.show(*args, **kw)>"
      ]
     },
     "execution_count": 20,
     "metadata": {},
     "output_type": "execute_result"
    },
    {
     "data": {
      "image/png": "[encoded data removed]",
      "text/plain": [
       "<Figure size 432x288 with 1 Axes>"
      ]
     },
     "metadata": {
      "needs_background": "light"
     },
     "output_type": "display_data"
    }
   ],
   "source": [
    "#regression south temp vs lat\n",
    "x_values = southern_df[\"Lat\"]\n",
    "y_values = southern_df[\"Max Temp\"]\n",
    "(slope, intercept, rvalue, pvalue, stderr) = linregress(x_values, y_values)\n",
    "regress_values = x_values * slope + intercept\n",
    "\n",
    "line_eq = \"y = \" + str(round(slope, 2)) + \"x + \" + str(round(intercept,2))\n",
    "\n",
    "plt.scatter(x_values, y_values)\n",
    "plt.plot(x_values, regress_values, \"r-\")\n",
    "plt.annotate(line_eq, (-50, 70), fontsize=12, color= \"red\")\n",
    "plt.xlabel(\"Latitude\")\n",
    "plt.ylabel(\"Max Temperature\")\n",
    "plt.title(\"Southern Hemisphere - Max Temp vs. Latitude Linear Regression\")\n",
    "print(f\"The r-squared is: {rvalue}\")\n",
    "\n",
    "plt.show"
   ]
  },
  {
   "cell_type": "markdown",
   "metadata": {},
   "source": [
    "####  Northern Hemisphere - Humidity (%) vs. Latitude Linear Regression"
   ]
  },
  {
   "cell_type": "code",
   "execution_count": 21,
   "metadata": {},
   "outputs": [
    {
     "name": "stdout",
     "output_type": "stream",
     "text": [
      "The r-squared is: -0.041519238214837696\n"
     ]
    },
    {
     "data": {
      "text/plain": [
       "<function matplotlib.pyplot.show(*args, **kw)>"
      ]
     },
     "execution_count": 21,
     "metadata": {},
     "output_type": "execute_result"
    },
    {
     "data": {
      "image/png": "[encoded data removed]",
      "text/plain": [
       "<Figure size 432x288 with 1 Axes>"
      ]
     },
     "metadata": {
      "needs_background": "light"
     },
     "output_type": "display_data"
    }
   ],
   "source": [
    "#regression for north humitidy vs lat\n",
    "x_values = northern_df[\"Lat\"]\n",
    "y_values = northern_df[\"Humidity\"]\n",
    "(slope, intercept, rvalue, pvalue, stderr) = linregress(x_values, y_values)\n",
    "regress_values = x_values * slope + intercept\n",
    "\n",
    "line_eq = \"y = \" + str(round(slope, 2)) + \"x + \" + str(round(intercept,2))\n",
    "\n",
    "plt.scatter(x_values, y_values)\n",
    "plt.plot(x_values, regress_values, \"r-\")\n",
    "plt.annotate(line_eq, (40, 10), fontsize=12, color= \"red\")\n",
    "plt.xlabel(\"Latitude\")\n",
    "plt.ylabel(\"Humidity\")\n",
    "plt.title(\"Northern Hemisphere - Humidity (%) vs. Latitude Linear Regression\")\n",
    "print(f\"The r-squared is: {rvalue}\")\n",
    "\n",
    "plt.show"
   ]
  },
  {
   "cell_type": "markdown",
   "metadata": {},
   "source": [
    "####  Southern Hemisphere - Humidity (%) vs. Latitude Linear Regression"
   ]
  },
  {
   "cell_type": "code",
   "execution_count": 26,
   "metadata": {},
   "outputs": [
    {
     "name": "stdout",
     "output_type": "stream",
     "text": [
      "The r-squared is: -0.06589328687114625\n"
     ]
    },
    {
     "data": {
      "text/plain": [
       "<function matplotlib.pyplot.show(*args, **kw)>"
      ]
     },
     "execution_count": 26,
     "metadata": {},
     "output_type": "execute_result"
    },
    {
     "data": {
      "image/png": "[encoded data removed]",
      "text/plain": [
       "<Figure size 432x288 with 1 Axes>"
      ]
     },
     "metadata": {
      "needs_background": "light"
     },
     "output_type": "display_data"
    }
   ],
   "source": [
    "#south regression for humitidity vs lat\n",
    "x_values = southern_df[\"Lat\"]\n",
    "y_values = southern_df[\"Humidity\"]\n",
    "(slope, intercept, rvalue, pvalue, stderr) = linregress(x_values, y_values)\n",
    "regress_values = x_values * slope + intercept\n",
    "\n",
    "line_eq = \"y = \" + str(round(slope, 2)) + \"x + \" + str(round(intercept,2))\n",
    "\n",
    "plt.scatter(x_values, y_values)\n",
    "plt.plot(x_values, regress_values, \"r-\")\n",
    "plt.annotate(line_eq, (-50, 30), fontsize=12, color= \"red\")\n",
    "plt.xlabel(\"Latitude\")\n",
    "plt.ylabel(\"Humidity\")\n",
    "plt.title(\"Southern Hemisphere - Humidity (%) vs. Latitude Linear Regression\")\n",
    "print(f\"The r-squared is: {rvalue}\")\n",
    "\n",
    "plt.show"
   ]
  },
  {
   "cell_type": "markdown",
   "metadata": {},
   "source": [
    "####  Northern Hemisphere - Cloudiness (%) vs. Latitude Linear Regression"
   ]
  },
  {
   "cell_type": "code",
   "execution_count": 27,
   "metadata": {},
   "outputs": [
    {
     "name": "stdout",
     "output_type": "stream",
     "text": [
      "The r-squared is: -0.05385405491865227\n"
     ]
    },
    {
     "data": {
      "text/plain": [
       "<function matplotlib.pyplot.show(*args, **kw)>"
      ]
     },
     "execution_count": 27,
     "metadata": {},
     "output_type": "execute_result"
    },
    {
     "data": {
      "image/png": "[encoded data removed]",
      "text/plain": [
       "<Figure size 432x288 with 1 Axes>"
      ]
     },
     "metadata": {
      "needs_background": "light"
     },
     "output_type": "display_data"
    }
   ],
   "source": [
    "#north cloudiness vs lat\n",
    "x_values = northern_df[\"Lat\"]\n",
    "y_values = northern_df[\"Cloudiness\"]\n",
    "(slope, intercept, rvalue, pvalue, stderr) = linregress(x_values, y_values)\n",
    "regress_values = x_values * slope + intercept\n",
    "\n",
    "line_eq = \"y = \" + str(round(slope, 2)) + \"x + \" + str(round(intercept,2))\n",
    "\n",
    "plt.scatter(x_values, y_values)\n",
    "plt.plot(x_values, regress_values, \"r-\")\n",
    "plt.annotate(line_eq, (40, 20), fontsize=12, color= \"red\")\n",
    "plt.xlabel(\"Latitude\")\n",
    "plt.ylabel(\"Cloudiness\")\n",
    "plt.title(\"Northern Hemisphere - Cloudiness (%) vs. Latitude Linear Regression\")\n",
    "print(f\"The r-squared is: {rvalue}\")\n",
    "\n",
    "plt.show"
   ]
  },
  {
   "cell_type": "markdown",
   "metadata": {},
   "source": [
    "####  Southern Hemisphere - Cloudiness (%) vs. Latitude Linear Regression"
   ]
  },
  {
   "cell_type": "code",
   "execution_count": 28,
   "metadata": {},
   "outputs": [
    {
     "name": "stdout",
     "output_type": "stream",
     "text": [
      "The r-squared is: -0.14931038141194336\n"
     ]
    },
    {
     "data": {
      "text/plain": [
       "<function matplotlib.pyplot.show(*args, **kw)>"
      ]
     },
     "execution_count": 28,
     "metadata": {},
     "output_type": "execute_result"
    },
    {
     "data": {
      "image/png": "[encoded data removed]",
      "text/plain": [
       "<Figure size 432x288 with 1 Axes>"
      ]
     },
     "metadata": {
      "needs_background": "light"
     },
     "output_type": "display_data"
    }
   ],
   "source": [
    "#south cloudiness vs lat\n",
    "x_values = southern_df[\"Lat\"]\n",
    "y_values = southern_df[\"Cloudiness\"]\n",
    "(slope, intercept, rvalue, pvalue, stderr) = linregress(x_values, y_values)\n",
    "regress_values = x_values * slope + intercept\n",
    "\n",
    "line_eq = \"y = \" + str(round(slope, 2)) + \"x + \" + str(round(intercept,2))\n",
    "\n",
    "plt.scatter(x_values, y_values)\n",
    "plt.plot(x_values, regress_values, \"r-\")\n",
    "plt.annotate(line_eq, (-30, 20), fontsize=12, color= \"red\")\n",
    "plt.xlabel(\"Latitude\")\n",
    "plt.ylabel(\"Cloudiness\")\n",
    "plt.title(\"Southern Hemisphere - Cloudiness (%) vs. Latitude Linear Regression\")\n",
    "print(f\"The r-squared is: {rvalue}\")\n",
    "\n",
    "plt.show"
   ]
  },
  {
   "cell_type": "markdown",
   "metadata": {},
   "source": [
    "####  Northern Hemisphere - Wind Speed (mph) vs. Latitude Linear Regression"
   ]
  },
  {
   "cell_type": "code",
   "execution_count": 29,
   "metadata": {},
   "outputs": [
    {
     "name": "stdout",
     "output_type": "stream",
     "text": [
      "The r-squared is: -0.09305384354451716\n"
     ]
    },
    {
     "data": {
      "text/plain": [
       "<function matplotlib.pyplot.show(*args, **kw)>"
      ]
     },
     "execution_count": 29,
     "metadata": {},
     "output_type": "execute_result"
    },
    {
     "data": {
      "image/png": "[encoded data removed]",
      "text/plain": [
       "<Figure size 432x288 with 1 Axes>"
      ]
     },
     "metadata": {
      "needs_background": "light"
     },
     "output_type": "display_data"
    }
   ],
   "source": [
    "#north wind vs lat regression\n",
    "x_values = northern_df[\"Lat\"]\n",
    "y_values = northern_df[\"Wind Speed\"]\n",
    "(slope, intercept, rvalue, pvalue, stderr) = linregress(x_values, y_values)\n",
    "regress_values = x_values * slope + intercept\n",
    "\n",
    "line_eq = \"y = \" + str(round(slope, 2)) + \"x + \" + str(round(intercept,2))\n",
    "\n",
    "plt.scatter(x_values, y_values)\n",
    "plt.plot(x_values, regress_values, \"r-\")\n",
    "plt.annotate(line_eq, (40, 25), fontsize=12, color= \"red\")\n",
    "plt.xlabel(\"Latitude\")\n",
    "plt.ylabel(\"Wind Speed\")\n",
    "plt.title(\"Northern Hemisphere - Wind Speed (mph) vs. Latitude Linear Regression\")\n",
    "print(f\"The r-squared is: {rvalue}\")\n",
    "\n",
    "plt.show"
   ]
  },
  {
   "cell_type": "markdown",
   "metadata": {},
   "source": [
    "####  Southern Hemisphere - Wind Speed (mph) vs. Latitude Linear Regression"
   ]
  },
  {
   "cell_type": "code",
   "execution_count": 30,
   "metadata": {},
   "outputs": [
    {
     "name": "stdout",
     "output_type": "stream",
     "text": [
      "The r-squared is: 0.0251395005890864\n"
     ]
    },
    {
     "data": {
      "text/plain": [
       "<function matplotlib.pyplot.show(*args, **kw)>"
      ]
     },
     "execution_count": 30,
     "metadata": {},
     "output_type": "execute_result"
    },
    {
     "data": {
      "image/png": "[encoded data removed]",
      "text/plain": [
       "<Figure size 432x288 with 1 Axes>"
      ]
     },
     "metadata": {
      "needs_background": "light"
     },
     "output_type": "display_data"
    }
   ],
   "source": [
    "#south wind vs lat regression\n",
    "x_values = southern_df[\"Lat\"]\n",
    "y_values = southern_df[\"Wind Speed\"]\n",
    "(slope, intercept, rvalue, pvalue, stderr) = linregress(x_values, y_values)\n",
    "regress_values = x_values * slope + intercept\n",
    "\n",
    "line_eq = \"y = \" + str(round(slope, 2)) + \"x + \" + str(round(intercept,2))\n",
    "\n",
    "plt.scatter(x_values, y_values)\n",
    "plt.plot(x_values, regress_values, \"r-\")\n",
    "plt.annotate(line_eq, (-50, 20), fontsize=12, color= \"red\")\n",
    "plt.xlabel(\"Latitude\")\n",
    "plt.ylabel(\"Wind Speed\")\n",
    "plt.title(\"Southern Hemisphere - Wind Speed (mph) vs. Latitude Linear Regression\")\n",
    "print(f\"The r-squared is: {rvalue}\")\n",
    "\n",
    "plt.show"
   ]
  },
  {
   "cell_type": "code",
   "execution_count": null,
   "metadata": {},
   "outputs": [],
   "source": []
  }
 ],
 "metadata": {
  "anaconda-cloud": {},
  "kernel_info": {
   "name": "python3"
  },
  "kernelspec": {
   "display_name": "Python 3",
   "language": "python",
   "name": "python3"
  },
  "language_info": {
   "codemirror_mode": {
    "name": "ipython",
    "version": 3
   },
   "file_extension": ".py",
   "mimetype": "text/x-python",
   "name": "python",
   "nbconvert_exporter": "python",
   "pygments_lexer": "ipython3",
   "version": "3.6.10"
  },
  "latex_envs": {
   "LaTeX_envs_menu_present": true,
   "autoclose": false,
   "autocomplete": true,
   "bibliofile": "biblio.bib",
   "cite_by": "apalike",
   "current_citInitial": 1,
   "eqLabelWithNumbers": true,
   "eqNumInitial": 1,
   "hotkeys": {
    "equation": "Ctrl-E",
    "itemize": "Ctrl-I"
   },
   "labels_anchors": false,
   "latex_user_defs": false,
   "report_style_numbering": false,
   "user_envs_cfg": false
  },
  "nteract": {
   "version": "0.12.3"
  }
 },
 "nbformat": 4,
 "nbformat_minor": 4
}
